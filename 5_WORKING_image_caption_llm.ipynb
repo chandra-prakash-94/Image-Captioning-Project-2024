{
  "nbformat": 4,
  "nbformat_minor": 0,
  "metadata": {
    "colab": {
      "provenance": [],
      "collapsed_sections": [
        "oXNQGoI3RGVs",
        "40t-t0wgI1hG"
      ]
    },
    "kernelspec": {
      "name": "python3",
      "display_name": "Python 3"
    },
    "language_info": {
      "name": "python"
    },
    "widgets": {
      "application/vnd.jupyter.widget-state+json": {
        "07546606c177420687a5533ef6b8fcf9": {
          "model_module": "@jupyter-widgets/controls",
          "model_name": "HBoxModel",
          "model_module_version": "1.5.0",
          "state": {
            "_dom_classes": [],
            "_model_module": "@jupyter-widgets/controls",
            "_model_module_version": "1.5.0",
            "_model_name": "HBoxModel",
            "_view_count": null,
            "_view_module": "@jupyter-widgets/controls",
            "_view_module_version": "1.5.0",
            "_view_name": "HBoxView",
            "box_style": "",
            "children": [
              "IPY_MODEL_3a6c210ef9694014961635fb2228149a",
              "IPY_MODEL_24276555fdec423d94ae10ea463d9586",
              "IPY_MODEL_ec112c42e00e485faaf2871caa447b6f"
            ],
            "layout": "IPY_MODEL_affc2cdb669549b8aa718cd623d94e1f"
          }
        },
        "3a6c210ef9694014961635fb2228149a": {
          "model_module": "@jupyter-widgets/controls",
          "model_name": "HTMLModel",
          "model_module_version": "1.5.0",
          "state": {
            "_dom_classes": [],
            "_model_module": "@jupyter-widgets/controls",
            "_model_module_version": "1.5.0",
            "_model_name": "HTMLModel",
            "_view_count": null,
            "_view_module": "@jupyter-widgets/controls",
            "_view_module_version": "1.5.0",
            "_view_name": "HTMLView",
            "description": "",
            "description_tooltip": null,
            "layout": "IPY_MODEL_4f96514320234ca5badddc643230b21a",
            "placeholder": "​",
            "style": "IPY_MODEL_3b042c306d18441cb02ffe26cbbcebe3",
            "value": "100%"
          }
        },
        "24276555fdec423d94ae10ea463d9586": {
          "model_module": "@jupyter-widgets/controls",
          "model_name": "FloatProgressModel",
          "model_module_version": "1.5.0",
          "state": {
            "_dom_classes": [],
            "_model_module": "@jupyter-widgets/controls",
            "_model_module_version": "1.5.0",
            "_model_name": "FloatProgressModel",
            "_view_count": null,
            "_view_module": "@jupyter-widgets/controls",
            "_view_module_version": "1.5.0",
            "_view_name": "ProgressView",
            "bar_style": "success",
            "description": "",
            "description_tooltip": null,
            "layout": "IPY_MODEL_14303df8691047acb0f756dca573bb64",
            "max": 5,
            "min": 0,
            "orientation": "horizontal",
            "style": "IPY_MODEL_3002154dc36f4f4c8b7e772d8f300aa5",
            "value": 5
          }
        },
        "ec112c42e00e485faaf2871caa447b6f": {
          "model_module": "@jupyter-widgets/controls",
          "model_name": "HTMLModel",
          "model_module_version": "1.5.0",
          "state": {
            "_dom_classes": [],
            "_model_module": "@jupyter-widgets/controls",
            "_model_module_version": "1.5.0",
            "_model_name": "HTMLModel",
            "_view_count": null,
            "_view_module": "@jupyter-widgets/controls",
            "_view_module_version": "1.5.0",
            "_view_name": "HTMLView",
            "description": "",
            "description_tooltip": null,
            "layout": "IPY_MODEL_1484c48d021f449eaa8535f68be1802c",
            "placeholder": "​",
            "style": "IPY_MODEL_9eb61686e4254411b84b237a1f3df10f",
            "value": " 5/5 [01:01&lt;00:00, 12.84s/it]"
          }
        },
        "affc2cdb669549b8aa718cd623d94e1f": {
          "model_module": "@jupyter-widgets/base",
          "model_name": "LayoutModel",
          "model_module_version": "1.2.0",
          "state": {
            "_model_module": "@jupyter-widgets/base",
            "_model_module_version": "1.2.0",
            "_model_name": "LayoutModel",
            "_view_count": null,
            "_view_module": "@jupyter-widgets/base",
            "_view_module_version": "1.2.0",
            "_view_name": "LayoutView",
            "align_content": null,
            "align_items": null,
            "align_self": null,
            "border": null,
            "bottom": null,
            "display": null,
            "flex": null,
            "flex_flow": null,
            "grid_area": null,
            "grid_auto_columns": null,
            "grid_auto_flow": null,
            "grid_auto_rows": null,
            "grid_column": null,
            "grid_gap": null,
            "grid_row": null,
            "grid_template_areas": null,
            "grid_template_columns": null,
            "grid_template_rows": null,
            "height": null,
            "justify_content": null,
            "justify_items": null,
            "left": null,
            "margin": null,
            "max_height": null,
            "max_width": null,
            "min_height": null,
            "min_width": null,
            "object_fit": null,
            "object_position": null,
            "order": null,
            "overflow": null,
            "overflow_x": null,
            "overflow_y": null,
            "padding": null,
            "right": null,
            "top": null,
            "visibility": null,
            "width": null
          }
        },
        "4f96514320234ca5badddc643230b21a": {
          "model_module": "@jupyter-widgets/base",
          "model_name": "LayoutModel",
          "model_module_version": "1.2.0",
          "state": {
            "_model_module": "@jupyter-widgets/base",
            "_model_module_version": "1.2.0",
            "_model_name": "LayoutModel",
            "_view_count": null,
            "_view_module": "@jupyter-widgets/base",
            "_view_module_version": "1.2.0",
            "_view_name": "LayoutView",
            "align_content": null,
            "align_items": null,
            "align_self": null,
            "border": null,
            "bottom": null,
            "display": null,
            "flex": null,
            "flex_flow": null,
            "grid_area": null,
            "grid_auto_columns": null,
            "grid_auto_flow": null,
            "grid_auto_rows": null,
            "grid_column": null,
            "grid_gap": null,
            "grid_row": null,
            "grid_template_areas": null,
            "grid_template_columns": null,
            "grid_template_rows": null,
            "height": null,
            "justify_content": null,
            "justify_items": null,
            "left": null,
            "margin": null,
            "max_height": null,
            "max_width": null,
            "min_height": null,
            "min_width": null,
            "object_fit": null,
            "object_position": null,
            "order": null,
            "overflow": null,
            "overflow_x": null,
            "overflow_y": null,
            "padding": null,
            "right": null,
            "top": null,
            "visibility": null,
            "width": null
          }
        },
        "3b042c306d18441cb02ffe26cbbcebe3": {
          "model_module": "@jupyter-widgets/controls",
          "model_name": "DescriptionStyleModel",
          "model_module_version": "1.5.0",
          "state": {
            "_model_module": "@jupyter-widgets/controls",
            "_model_module_version": "1.5.0",
            "_model_name": "DescriptionStyleModel",
            "_view_count": null,
            "_view_module": "@jupyter-widgets/base",
            "_view_module_version": "1.2.0",
            "_view_name": "StyleView",
            "description_width": ""
          }
        },
        "14303df8691047acb0f756dca573bb64": {
          "model_module": "@jupyter-widgets/base",
          "model_name": "LayoutModel",
          "model_module_version": "1.2.0",
          "state": {
            "_model_module": "@jupyter-widgets/base",
            "_model_module_version": "1.2.0",
            "_model_name": "LayoutModel",
            "_view_count": null,
            "_view_module": "@jupyter-widgets/base",
            "_view_module_version": "1.2.0",
            "_view_name": "LayoutView",
            "align_content": null,
            "align_items": null,
            "align_self": null,
            "border": null,
            "bottom": null,
            "display": null,
            "flex": null,
            "flex_flow": null,
            "grid_area": null,
            "grid_auto_columns": null,
            "grid_auto_flow": null,
            "grid_auto_rows": null,
            "grid_column": null,
            "grid_gap": null,
            "grid_row": null,
            "grid_template_areas": null,
            "grid_template_columns": null,
            "grid_template_rows": null,
            "height": null,
            "justify_content": null,
            "justify_items": null,
            "left": null,
            "margin": null,
            "max_height": null,
            "max_width": null,
            "min_height": null,
            "min_width": null,
            "object_fit": null,
            "object_position": null,
            "order": null,
            "overflow": null,
            "overflow_x": null,
            "overflow_y": null,
            "padding": null,
            "right": null,
            "top": null,
            "visibility": null,
            "width": null
          }
        },
        "3002154dc36f4f4c8b7e772d8f300aa5": {
          "model_module": "@jupyter-widgets/controls",
          "model_name": "ProgressStyleModel",
          "model_module_version": "1.5.0",
          "state": {
            "_model_module": "@jupyter-widgets/controls",
            "_model_module_version": "1.5.0",
            "_model_name": "ProgressStyleModel",
            "_view_count": null,
            "_view_module": "@jupyter-widgets/base",
            "_view_module_version": "1.2.0",
            "_view_name": "StyleView",
            "bar_color": null,
            "description_width": ""
          }
        },
        "1484c48d021f449eaa8535f68be1802c": {
          "model_module": "@jupyter-widgets/base",
          "model_name": "LayoutModel",
          "model_module_version": "1.2.0",
          "state": {
            "_model_module": "@jupyter-widgets/base",
            "_model_module_version": "1.2.0",
            "_model_name": "LayoutModel",
            "_view_count": null,
            "_view_module": "@jupyter-widgets/base",
            "_view_module_version": "1.2.0",
            "_view_name": "LayoutView",
            "align_content": null,
            "align_items": null,
            "align_self": null,
            "border": null,
            "bottom": null,
            "display": null,
            "flex": null,
            "flex_flow": null,
            "grid_area": null,
            "grid_auto_columns": null,
            "grid_auto_flow": null,
            "grid_auto_rows": null,
            "grid_column": null,
            "grid_gap": null,
            "grid_row": null,
            "grid_template_areas": null,
            "grid_template_columns": null,
            "grid_template_rows": null,
            "height": null,
            "justify_content": null,
            "justify_items": null,
            "left": null,
            "margin": null,
            "max_height": null,
            "max_width": null,
            "min_height": null,
            "min_width": null,
            "object_fit": null,
            "object_position": null,
            "order": null,
            "overflow": null,
            "overflow_x": null,
            "overflow_y": null,
            "padding": null,
            "right": null,
            "top": null,
            "visibility": null,
            "width": null
          }
        },
        "9eb61686e4254411b84b237a1f3df10f": {
          "model_module": "@jupyter-widgets/controls",
          "model_name": "DescriptionStyleModel",
          "model_module_version": "1.5.0",
          "state": {
            "_model_module": "@jupyter-widgets/controls",
            "_model_module_version": "1.5.0",
            "_model_name": "DescriptionStyleModel",
            "_view_count": null,
            "_view_module": "@jupyter-widgets/base",
            "_view_module_version": "1.2.0",
            "_view_name": "StyleView",
            "description_width": ""
          }
        }
      }
    }
  },
  "cells": [
    {
      "cell_type": "markdown",
      "source": [
        "## Setting Up"
      ],
      "metadata": {
        "id": "vC0yZviHXw8o"
      }
    },
    {
      "cell_type": "code",
      "source": [
        "!pip install --upgrade langchain"
      ],
      "metadata": {
        "id": "4pa-K7LsO_An"
      },
      "execution_count": null,
      "outputs": []
    },
    {
      "cell_type": "code",
      "source": [
        "!pip install langchain-google-genai"
      ],
      "metadata": {
        "id": "xMkKe6i3PS3O"
      },
      "execution_count": null,
      "outputs": []
    },
    {
      "cell_type": "code",
      "source": [
        "from google.colab import userdata"
      ],
      "metadata": {
        "id": "cuVpj-frngB7"
      },
      "execution_count": 3,
      "outputs": []
    },
    {
      "cell_type": "code",
      "source": [
        "import os\n",
        "os.environ['GOOGLE_API_KEY'] = userdata.get('GOOGLE_API_KEY')"
      ],
      "metadata": {
        "id": "u0qkiuD9PnjQ"
      },
      "execution_count": 4,
      "outputs": []
    },
    {
      "cell_type": "code",
      "source": [
        "from langchain_google_genai import ChatGoogleGenerativeAI\n",
        "from langchain.prompts import PromptTemplate\n",
        "from langchain.chains import LLMChain\n",
        "\n",
        "GOOGLE_API_KEY = os.getenv(\"GOOGLE_API_KEY\")"
      ],
      "metadata": {
        "id": "2RfkNkE3Ptta"
      },
      "execution_count": 5,
      "outputs": []
    },
    {
      "cell_type": "markdown",
      "source": [
        "![image.png](data:image/png;base64,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)"
      ],
      "metadata": {
        "id": "Tvg11TDwZ7FO"
      }
    },
    {
      "cell_type": "code",
      "source": [
        "llm = ChatGoogleGenerativeAI(model=\"gemini-pro\", google_api_key=GOOGLE_API_KEY, convert_system_message_to_human=True) #, temperature=0.1"
      ],
      "metadata": {
        "id": "kYfS23K4Pyqe"
      },
      "execution_count": 6,
      "outputs": []
    },
    {
      "cell_type": "markdown",
      "source": [
        "## Image Captioning Tool"
      ],
      "metadata": {
        "id": "c_5hxHG9X6GO"
      }
    },
    {
      "cell_type": "code",
      "source": [
        "# @title\n",
        "# Use a pipeline as a high-level helper\n",
        "from transformers import pipeline\n",
        "image_to_text = pipeline(\"image-to-text\", model=\"Salesforce/blip-image-captioning-large\")"
      ],
      "metadata": {
        "id": "Kfc-BZzUMPoU"
      },
      "execution_count": 48,
      "outputs": []
    },
    {
      "cell_type": "code",
      "source": [
        "from langchain.agents import initialize_agent\n",
        "from langchain.tools import BaseTool\n",
        "from langchain.chains.conversation.memory import ConversationBufferWindowMemory"
      ],
      "metadata": {
        "id": "0RCIE4ZdQQ-h"
      },
      "execution_count": 88,
      "outputs": []
    },
    {
      "cell_type": "code",
      "source": [
        "class ImageCaptionTool(BaseTool):\n",
        "    name = \"Image captioner\"\n",
        "    description = \"Use this tool when given the URL of image that you would like to be captioned. \" \\\n",
        "                  \"It will return a caption describing the scene in the image.\"\n",
        "                  #It will provide a concise and descriptive caption for the given image,according to given context, describing the main objects, people, scenes, and actions present in the image, while keeping the caption coherent and natural-sounding.\"\n",
        "                  #detailed and specific description of the image,focusing on key elements such as objects, actions, scenes\"\n",
        "\n",
        "    def _run(self, url):\n",
        "        #image_to_text = pipeline(\"image-to-text\", model=\"Salesforce/blip-image-captioning-large\")\n",
        "        caption = image_to_text(url, max_new_tokens=200)\n",
        "        return caption[0]['generated_text']\n"
      ],
      "metadata": {
        "id": "puuXxAYxO3_I"
      },
      "execution_count": 89,
      "outputs": []
    },
    {
      "cell_type": "code",
      "source": [
        "tools = [ImageCaptionTool()]"
      ],
      "metadata": {
        "id": "K9gkwPheQQ67"
      },
      "execution_count": 90,
      "outputs": []
    },
    {
      "cell_type": "code",
      "source": [
        "conversational_memory = ConversationBufferWindowMemory(\n",
        "    memory_key='chat_history',\n",
        "    k=2,\n",
        "    return_messages=True\n",
        ")"
      ],
      "metadata": {
        "id": "SBm0rSl_QQ3T"
      },
      "execution_count": 91,
      "outputs": []
    },
    {
      "cell_type": "code",
      "source": [
        "agent = initialize_agent(\n",
        "    agent=\"chat-conversational-react-description\",\n",
        "    tools=tools,\n",
        "    llm=llm,\n",
        "    max_iterations=5,\n",
        "    verbose=False,\n",
        "    memory=conversational_memory,\n",
        "    early_stopping_method='generate'\n",
        ")"
      ],
      "metadata": {
        "id": "9Qy-wDTeQomQ"
      },
      "execution_count": 92,
      "outputs": []
    },
    {
      "cell_type": "code",
      "source": [
        "new_prompt = agent.agent.create_prompt(\n",
        "    #system_message=sys_msg,\n",
        "    tools=tools\n",
        ")\n",
        "agent.agent.llm_chain.prompt = new_prompt\n",
        "\n",
        "# update the agent tools\n",
        "agent.tools = tools"
      ],
      "metadata": {
        "id": "qiykOG0h6f5Y"
      },
      "execution_count": 93,
      "outputs": []
    },
    {
      "cell_type": "code",
      "source": [
        "# @title\n",
        "url = 'https://i0.wp.com/www.mcaleerlaw.net/wp-content/uploads/2021/04/thief-4173477_1280.jpg?resize=525%2C338&quality=89&ssl=1'"
      ],
      "metadata": {
        "id": "T_ZRnGF33OqS"
      },
      "execution_count": 97,
      "outputs": []
    },
    {
      "cell_type": "code",
      "source": [
        "# @title\n",
        "response= agent(f\"The given image is related to scenario of crime, theft related incident. Describe this image in a complete, detailed sentences according to this scenario?\\n{url}\")"
      ],
      "metadata": {
        "id": "t0pHHyhk6mMC"
      },
      "execution_count": 98,
      "outputs": []
    },
    {
      "cell_type": "code",
      "source": [
        "# @title\n",
        "response['output']"
      ],
      "metadata": {
        "colab": {
          "base_uri": "https://localhost:8080/",
          "height": 36
        },
        "id": "49WP-0sm7Ykc",
        "outputId": "88c553ab-feed-4918-b433-98b25687ae4f"
      },
      "execution_count": 99,
      "outputs": [
        {
          "output_type": "execute_result",
          "data": {
            "text/plain": [
              "'The image shows a cartoon thief with a sack of money and a hammer in his hand, looking out the window.'"
            ],
            "application/vnd.google.colaboratory.intrinsic+json": {
              "type": "string"
            }
          },
          "metadata": {},
          "execution_count": 99
        }
      ]
    },
    {
      "cell_type": "code",
      "source": [
        "# @title\n",
        "response = agent.invoke(f'{user_question}-{url}')\n"
      ],
      "metadata": {
        "cellView": "form",
        "id": "JO0i5A6_3A2C"
      },
      "execution_count": null,
      "outputs": []
    },
    {
      "cell_type": "code",
      "source": [
        "# @title\n",
        "#user_question = 'Describe this image in a complete, detailed sentence focusing on the main subject and action. Point out any notable objects, people, animals or scenery. Use descriptive language and explain the relationships between elements in a natural way.'"
      ],
      "metadata": {
        "cellView": "form",
        "id": "xIJKqgde3Nkp"
      },
      "execution_count": null,
      "outputs": []
    },
    {
      "cell_type": "code",
      "source": [
        "# @title\n",
        "#user_question = 'Please describe what is happening in this image according to given context. The context is crime, theft, robbery. Please do not use may be,might be or possibility'"
      ],
      "metadata": {
        "cellView": "form",
        "id": "_Wsk5aM45O-p"
      },
      "execution_count": null,
      "outputs": []
    },
    {
      "cell_type": "markdown",
      "source": [
        "## testing on images in URL list to calc BLEU score- bulk images"
      ],
      "metadata": {
        "id": "oXNQGoI3RGVs"
      }
    },
    {
      "cell_type": "code",
      "source": [
        "import pandas as pd"
      ],
      "metadata": {
        "id": "2QPo8kaxF2p6"
      },
      "execution_count": null,
      "outputs": []
    },
    {
      "cell_type": "code",
      "source": [
        "df = pd.read_excel('/content/REPEATED_crime_theft_robbery_dataset_captioned.xlsx')"
      ],
      "metadata": {
        "id": "mnmsdZC_FMHk"
      },
      "execution_count": null,
      "outputs": []
    },
    {
      "cell_type": "code",
      "source": [
        "df.head()"
      ],
      "metadata": {
        "id": "IlQSLChwEChf"
      },
      "execution_count": null,
      "outputs": []
    },
    {
      "cell_type": "code",
      "source": [
        "df_upd = df['URL']"
      ],
      "metadata": {
        "id": "oCk3dAzM1bqc"
      },
      "execution_count": null,
      "outputs": []
    },
    {
      "cell_type": "code",
      "source": [
        "df_upd.head()"
      ],
      "metadata": {
        "id": "HOKwEsRNEH_U"
      },
      "execution_count": null,
      "outputs": []
    },
    {
      "cell_type": "code",
      "source": [
        "df_upd.count()"
      ],
      "metadata": {
        "colab": {
          "base_uri": "https://localhost:8080/"
        },
        "id": "QgtoYQ_EEOle",
        "outputId": "57daa5f6-9964-46ff-d43b-7935c61773df"
      },
      "execution_count": null,
      "outputs": [
        {
          "output_type": "execute_result",
          "data": {
            "text/plain": [
              "69"
            ]
          },
          "metadata": {},
          "execution_count": 44
        }
      ]
    },
    {
      "cell_type": "code",
      "source": [
        "url_lst=df_upd.to_list()"
      ],
      "metadata": {
        "id": "dnCYDLqN1euE"
      },
      "execution_count": null,
      "outputs": []
    },
    {
      "cell_type": "code",
      "source": [
        "len(url_lst)"
      ],
      "metadata": {
        "colab": {
          "base_uri": "https://localhost:8080/"
        },
        "id": "zVsl00UJKjum",
        "outputId": "56872d1b-ace7-4133-d92f-aa4a3a39f693"
      },
      "execution_count": null,
      "outputs": [
        {
          "output_type": "execute_result",
          "data": {
            "text/plain": [
              "69"
            ]
          },
          "metadata": {},
          "execution_count": 46
        }
      ]
    },
    {
      "cell_type": "code",
      "source": [
        "url_lst = url_lst[:5]"
      ],
      "metadata": {
        "id": "obzN6mhaK6aV"
      },
      "execution_count": null,
      "outputs": []
    },
    {
      "cell_type": "code",
      "source": [
        "url_lst"
      ],
      "metadata": {
        "colab": {
          "base_uri": "https://localhost:8080/"
        },
        "id": "RLNk150JA3Xb",
        "outputId": "21aa48e4-7e33-4b4f-e0ff-29a854d8f189"
      },
      "execution_count": null,
      "outputs": [
        {
          "output_type": "execute_result",
          "data": {
            "text/plain": [
              "['https://houstoncriminalfirm.com/wp-content/uploads/2019/06/Canva-_-Theft-900x600.jpg',\n",
              " 'https://www.careylawoffice.com/wp-content/uploads/2021/12/Robbery-Theft-and-Assault-Crimes-Against-People-vs.-Property.jpeg',\n",
              " 'https://www.altshulerlaw.com/wp-content/uploads/Robbery-and-Theft-Abound-In-Tennessee-300x200.jpg',\n",
              " 'https://www.cmcdefense.com/images/blog/California-Burglary-Law-1-min.jpg',\n",
              " 'https://rhdefense.com/wp-content/uploads/2017/05/robbery-theft.jpg']"
            ]
          },
          "metadata": {},
          "execution_count": 56
        }
      ]
    },
    {
      "cell_type": "code",
      "source": [
        "from tqdm.notebook import tqdm"
      ],
      "metadata": {
        "id": "ceoSJAVk_0vy"
      },
      "execution_count": null,
      "outputs": []
    },
    {
      "cell_type": "code",
      "source": [
        "import requests"
      ],
      "metadata": {
        "id": "fg1TYuKiL8X7"
      },
      "execution_count": null,
      "outputs": []
    },
    {
      "cell_type": "code",
      "source": [
        "final_dict={}"
      ],
      "metadata": {
        "id": "ukHtOL9U1nsm"
      },
      "execution_count": null,
      "outputs": []
    },
    {
      "cell_type": "code",
      "source": [
        "# @title\n",
        "#user_question = 'Describe the image in a complete, detailed sentence focusing on the main subject and action. Point out any notable objects, people, animals or scenery. Use descriptive language and explain the relationships between elements in a natural way.'"
      ],
      "metadata": {
        "cellView": "form",
        "id": "88T5bXmISNmN"
      },
      "execution_count": null,
      "outputs": []
    },
    {
      "cell_type": "code",
      "source": [
        "# @title\n",
        "#user_question = 'Please describe what is happening in this image according to given context. The context is crime, theft, robbery. Please do not speculate'"
      ],
      "metadata": {
        "cellView": "form",
        "id": "9AEBN2yXSSVM"
      },
      "execution_count": null,
      "outputs": []
    },
    {
      "cell_type": "code",
      "source": [
        "import time"
      ],
      "metadata": {
        "id": "Sg-3jfuaTNJ1"
      },
      "execution_count": null,
      "outputs": []
    },
    {
      "cell_type": "code",
      "source": [
        "for url in tqdm(url_lst):\n",
        "  try:\n",
        "    response = agent(f\"The given image is related to crime, theft related incident. Describe this image in a complete, detailed sentences focusing on the main subject and action?\\n{url}\")\n",
        "    final_caption=response['output']\n",
        "    final_dict[url] = final_caption\n",
        "    #time.sleep(5)\n",
        "  except:\n",
        "    continue\n",
        "  else:\n",
        "    print(final_caption)\n",
        "    conversational_memory = ConversationBufferWindowMemory(\n",
        "    memory_key='chat_history',\n",
        "    k=3,\n",
        "    return_messages=True\n",
        ")\n",
        "    agent = initialize_agent(\n",
        "    agent=\"chat-conversational-react-description\",\n",
        "    tools=tools,\n",
        "    llm=llm,\n",
        "    max_iterations=5,\n",
        "    verbose=False,\n",
        "    memory=conversational_memory,\n",
        "    early_stopping_method='generate'\n",
        ")\n",
        "\n"
      ],
      "metadata": {
        "id": "D9KZmGEOMZ6G",
        "colab": {
          "base_uri": "https://localhost:8080/",
          "height": 101,
          "referenced_widgets": [
            "07546606c177420687a5533ef6b8fcf9",
            "3a6c210ef9694014961635fb2228149a",
            "24276555fdec423d94ae10ea463d9586",
            "ec112c42e00e485faaf2871caa447b6f",
            "affc2cdb669549b8aa718cd623d94e1f",
            "4f96514320234ca5badddc643230b21a",
            "3b042c306d18441cb02ffe26cbbcebe3",
            "14303df8691047acb0f756dca573bb64",
            "3002154dc36f4f4c8b7e772d8f300aa5",
            "1484c48d021f449eaa8535f68be1802c",
            "9eb61686e4254411b84b237a1f3df10f"
          ]
        },
        "outputId": "7e551b7b-9966-42b4-fa81-166ded56ee47"
      },
      "execution_count": null,
      "outputs": [
        {
          "output_type": "display_data",
          "data": {
            "text/plain": [
              "  0%|          | 0/5 [00:00<?, ?it/s]"
            ],
            "application/vnd.jupyter.widget-view+json": {
              "version_major": 2,
              "version_minor": 0,
              "model_id": "07546606c177420687a5533ef6b8fcf9"
            }
          },
          "metadata": {}
        },
        {
          "output_type": "stream",
          "name": "stdout",
          "text": [
            "A masked man in a black hood and black jacket is holding a pair of skis.\n",
            "A man in a black hoodie is holding a scared woman in a hooded jacket and a hoodie.\n",
            "The image shows a masked man in a black jacket holding a gun, suggesting that he is committing a robbery or theft.\n"
          ]
        }
      ]
    },
    {
      "cell_type": "markdown",
      "source": [
        "## save as excel sheet"
      ],
      "metadata": {
        "id": "40t-t0wgI1hG"
      }
    },
    {
      "cell_type": "code",
      "source": [
        "df_final = pd.DataFrame([final_dict]).transpose()"
      ],
      "metadata": {
        "id": "mCtp-DpyH8tq"
      },
      "execution_count": null,
      "outputs": []
    },
    {
      "cell_type": "code",
      "source": [
        "df_final.head()"
      ],
      "metadata": {
        "colab": {
          "base_uri": "https://localhost:8080/",
          "height": 175
        },
        "id": "55LsShahH9bn",
        "outputId": "a1f6b0c8-e7b5-4406-dbf5-2a3450184110"
      },
      "execution_count": null,
      "outputs": [
        {
          "output_type": "execute_result",
          "data": {
            "text/plain": [
              "                                                                                                    0\n",
              "https://houstoncriminalfirm.com/wp-content/uplo...  In the image, a man is looking at a cell phone...\n",
              "https://www.careylawoffice.com/wp-content/uploa...  A man in a black hood and black jacket is hold...\n",
              "https://www.altshulerlaw.com/wp-content/uploads...  A man in a black hoodie is holding a woman in ...\n",
              "https://www.cmcdefense.com/images/blog/Californ...  A masked man is holding a baseball bat behind ..."
            ],
            "text/html": [
              "\n",
              "  <div id=\"df-b090034f-4b22-443e-9057-ce7a6666248c\" class=\"colab-df-container\">\n",
              "    <div>\n",
              "<style scoped>\n",
              "    .dataframe tbody tr th:only-of-type {\n",
              "        vertical-align: middle;\n",
              "    }\n",
              "\n",
              "    .dataframe tbody tr th {\n",
              "        vertical-align: top;\n",
              "    }\n",
              "\n",
              "    .dataframe thead th {\n",
              "        text-align: right;\n",
              "    }\n",
              "</style>\n",
              "<table border=\"1\" class=\"dataframe\">\n",
              "  <thead>\n",
              "    <tr style=\"text-align: right;\">\n",
              "      <th></th>\n",
              "      <th>0</th>\n",
              "    </tr>\n",
              "  </thead>\n",
              "  <tbody>\n",
              "    <tr>\n",
              "      <th>https://houstoncriminalfirm.com/wp-content/uploads/2019/06/Canva-_-Theft-900x600.jpg</th>\n",
              "      <td>In the image, a man is looking at a cell phone...</td>\n",
              "    </tr>\n",
              "    <tr>\n",
              "      <th>https://www.careylawoffice.com/wp-content/uploads/2021/12/Robbery-Theft-and-Assault-Crimes-Against-People-vs.-Property.jpeg</th>\n",
              "      <td>A man in a black hood and black jacket is hold...</td>\n",
              "    </tr>\n",
              "    <tr>\n",
              "      <th>https://www.altshulerlaw.com/wp-content/uploads/Robbery-and-Theft-Abound-In-Tennessee-300x200.jpg</th>\n",
              "      <td>A man in a black hoodie is holding a woman in ...</td>\n",
              "    </tr>\n",
              "    <tr>\n",
              "      <th>https://www.cmcdefense.com/images/blog/California-Burglary-Law-1-min.jpg</th>\n",
              "      <td>A masked man is holding a baseball bat behind ...</td>\n",
              "    </tr>\n",
              "  </tbody>\n",
              "</table>\n",
              "</div>\n",
              "    <div class=\"colab-df-buttons\">\n",
              "\n",
              "  <div class=\"colab-df-container\">\n",
              "    <button class=\"colab-df-convert\" onclick=\"convertToInteractive('df-b090034f-4b22-443e-9057-ce7a6666248c')\"\n",
              "            title=\"Convert this dataframe to an interactive table.\"\n",
              "            style=\"display:none;\">\n",
              "\n",
              "  <svg xmlns=\"http://www.w3.org/2000/svg\" height=\"24px\" viewBox=\"0 -960 960 960\">\n",
              "    <path d=\"M120-120v-720h720v720H120Zm60-500h600v-160H180v160Zm220 220h160v-160H400v160Zm0 220h160v-160H400v160ZM180-400h160v-160H180v160Zm440 0h160v-160H620v160ZM180-180h160v-160H180v160Zm440 0h160v-160H620v160Z\"/>\n",
              "  </svg>\n",
              "    </button>\n",
              "\n",
              "  <style>\n",
              "    .colab-df-container {\n",
              "      display:flex;\n",
              "      gap: 12px;\n",
              "    }\n",
              "\n",
              "    .colab-df-convert {\n",
              "      background-color: #E8F0FE;\n",
              "      border: none;\n",
              "      border-radius: 50%;\n",
              "      cursor: pointer;\n",
              "      display: none;\n",
              "      fill: #1967D2;\n",
              "      height: 32px;\n",
              "      padding: 0 0 0 0;\n",
              "      width: 32px;\n",
              "    }\n",
              "\n",
              "    .colab-df-convert:hover {\n",
              "      background-color: #E2EBFA;\n",
              "      box-shadow: 0px 1px 2px rgba(60, 64, 67, 0.3), 0px 1px 3px 1px rgba(60, 64, 67, 0.15);\n",
              "      fill: #174EA6;\n",
              "    }\n",
              "\n",
              "    .colab-df-buttons div {\n",
              "      margin-bottom: 4px;\n",
              "    }\n",
              "\n",
              "    [theme=dark] .colab-df-convert {\n",
              "      background-color: #3B4455;\n",
              "      fill: #D2E3FC;\n",
              "    }\n",
              "\n",
              "    [theme=dark] .colab-df-convert:hover {\n",
              "      background-color: #434B5C;\n",
              "      box-shadow: 0px 1px 3px 1px rgba(0, 0, 0, 0.15);\n",
              "      filter: drop-shadow(0px 1px 2px rgba(0, 0, 0, 0.3));\n",
              "      fill: #FFFFFF;\n",
              "    }\n",
              "  </style>\n",
              "\n",
              "    <script>\n",
              "      const buttonEl =\n",
              "        document.querySelector('#df-b090034f-4b22-443e-9057-ce7a6666248c button.colab-df-convert');\n",
              "      buttonEl.style.display =\n",
              "        google.colab.kernel.accessAllowed ? 'block' : 'none';\n",
              "\n",
              "      async function convertToInteractive(key) {\n",
              "        const element = document.querySelector('#df-b090034f-4b22-443e-9057-ce7a6666248c');\n",
              "        const dataTable =\n",
              "          await google.colab.kernel.invokeFunction('convertToInteractive',\n",
              "                                                    [key], {});\n",
              "        if (!dataTable) return;\n",
              "\n",
              "        const docLinkHtml = 'Like what you see? Visit the ' +\n",
              "          '<a target=\"_blank\" href=https://colab.research.google.com/notebooks/data_table.ipynb>data table notebook</a>'\n",
              "          + ' to learn more about interactive tables.';\n",
              "        element.innerHTML = '';\n",
              "        dataTable['output_type'] = 'display_data';\n",
              "        await google.colab.output.renderOutput(dataTable, element);\n",
              "        const docLink = document.createElement('div');\n",
              "        docLink.innerHTML = docLinkHtml;\n",
              "        element.appendChild(docLink);\n",
              "      }\n",
              "    </script>\n",
              "  </div>\n",
              "\n",
              "\n",
              "<div id=\"df-dd141b8b-85ab-4100-94b9-9aff58cf0ebf\">\n",
              "  <button class=\"colab-df-quickchart\" onclick=\"quickchart('df-dd141b8b-85ab-4100-94b9-9aff58cf0ebf')\"\n",
              "            title=\"Suggest charts\"\n",
              "            style=\"display:none;\">\n",
              "\n",
              "<svg xmlns=\"http://www.w3.org/2000/svg\" height=\"24px\"viewBox=\"0 0 24 24\"\n",
              "     width=\"24px\">\n",
              "    <g>\n",
              "        <path d=\"M19 3H5c-1.1 0-2 .9-2 2v14c0 1.1.9 2 2 2h14c1.1 0 2-.9 2-2V5c0-1.1-.9-2-2-2zM9 17H7v-7h2v7zm4 0h-2V7h2v10zm4 0h-2v-4h2v4z\"/>\n",
              "    </g>\n",
              "</svg>\n",
              "  </button>\n",
              "\n",
              "<style>\n",
              "  .colab-df-quickchart {\n",
              "      --bg-color: #E8F0FE;\n",
              "      --fill-color: #1967D2;\n",
              "      --hover-bg-color: #E2EBFA;\n",
              "      --hover-fill-color: #174EA6;\n",
              "      --disabled-fill-color: #AAA;\n",
              "      --disabled-bg-color: #DDD;\n",
              "  }\n",
              "\n",
              "  [theme=dark] .colab-df-quickchart {\n",
              "      --bg-color: #3B4455;\n",
              "      --fill-color: #D2E3FC;\n",
              "      --hover-bg-color: #434B5C;\n",
              "      --hover-fill-color: #FFFFFF;\n",
              "      --disabled-bg-color: #3B4455;\n",
              "      --disabled-fill-color: #666;\n",
              "  }\n",
              "\n",
              "  .colab-df-quickchart {\n",
              "    background-color: var(--bg-color);\n",
              "    border: none;\n",
              "    border-radius: 50%;\n",
              "    cursor: pointer;\n",
              "    display: none;\n",
              "    fill: var(--fill-color);\n",
              "    height: 32px;\n",
              "    padding: 0;\n",
              "    width: 32px;\n",
              "  }\n",
              "\n",
              "  .colab-df-quickchart:hover {\n",
              "    background-color: var(--hover-bg-color);\n",
              "    box-shadow: 0 1px 2px rgba(60, 64, 67, 0.3), 0 1px 3px 1px rgba(60, 64, 67, 0.15);\n",
              "    fill: var(--button-hover-fill-color);\n",
              "  }\n",
              "\n",
              "  .colab-df-quickchart-complete:disabled,\n",
              "  .colab-df-quickchart-complete:disabled:hover {\n",
              "    background-color: var(--disabled-bg-color);\n",
              "    fill: var(--disabled-fill-color);\n",
              "    box-shadow: none;\n",
              "  }\n",
              "\n",
              "  .colab-df-spinner {\n",
              "    border: 2px solid var(--fill-color);\n",
              "    border-color: transparent;\n",
              "    border-bottom-color: var(--fill-color);\n",
              "    animation:\n",
              "      spin 1s steps(1) infinite;\n",
              "  }\n",
              "\n",
              "  @keyframes spin {\n",
              "    0% {\n",
              "      border-color: transparent;\n",
              "      border-bottom-color: var(--fill-color);\n",
              "      border-left-color: var(--fill-color);\n",
              "    }\n",
              "    20% {\n",
              "      border-color: transparent;\n",
              "      border-left-color: var(--fill-color);\n",
              "      border-top-color: var(--fill-color);\n",
              "    }\n",
              "    30% {\n",
              "      border-color: transparent;\n",
              "      border-left-color: var(--fill-color);\n",
              "      border-top-color: var(--fill-color);\n",
              "      border-right-color: var(--fill-color);\n",
              "    }\n",
              "    40% {\n",
              "      border-color: transparent;\n",
              "      border-right-color: var(--fill-color);\n",
              "      border-top-color: var(--fill-color);\n",
              "    }\n",
              "    60% {\n",
              "      border-color: transparent;\n",
              "      border-right-color: var(--fill-color);\n",
              "    }\n",
              "    80% {\n",
              "      border-color: transparent;\n",
              "      border-right-color: var(--fill-color);\n",
              "      border-bottom-color: var(--fill-color);\n",
              "    }\n",
              "    90% {\n",
              "      border-color: transparent;\n",
              "      border-bottom-color: var(--fill-color);\n",
              "    }\n",
              "  }\n",
              "</style>\n",
              "\n",
              "  <script>\n",
              "    async function quickchart(key) {\n",
              "      const quickchartButtonEl =\n",
              "        document.querySelector('#' + key + ' button');\n",
              "      quickchartButtonEl.disabled = true;  // To prevent multiple clicks.\n",
              "      quickchartButtonEl.classList.add('colab-df-spinner');\n",
              "      try {\n",
              "        const charts = await google.colab.kernel.invokeFunction(\n",
              "            'suggestCharts', [key], {});\n",
              "      } catch (error) {\n",
              "        console.error('Error during call to suggestCharts:', error);\n",
              "      }\n",
              "      quickchartButtonEl.classList.remove('colab-df-spinner');\n",
              "      quickchartButtonEl.classList.add('colab-df-quickchart-complete');\n",
              "    }\n",
              "    (() => {\n",
              "      let quickchartButtonEl =\n",
              "        document.querySelector('#df-dd141b8b-85ab-4100-94b9-9aff58cf0ebf button');\n",
              "      quickchartButtonEl.style.display =\n",
              "        google.colab.kernel.accessAllowed ? 'block' : 'none';\n",
              "    })();\n",
              "  </script>\n",
              "</div>\n",
              "\n",
              "    </div>\n",
              "  </div>\n"
            ],
            "application/vnd.google.colaboratory.intrinsic+json": {
              "type": "dataframe",
              "variable_name": "df_final",
              "summary": "{\n  \"name\": \"df_final\",\n  \"rows\": 4,\n  \"fields\": [\n    {\n      \"column\": 0,\n      \"properties\": {\n        \"dtype\": \"string\",\n        \"num_unique_values\": 4,\n        \"samples\": [\n          \"A man in a black hood and black jacket is holding a pair of skis.\",\n          \"A masked man is holding a baseball bat behind a window.\",\n          \"In the image, a man is looking at a cell phone while a woman holds a bag. It is related to crime, theft related incident.\"\n        ],\n        \"semantic_type\": \"\",\n        \"description\": \"\"\n      }\n    }\n  ]\n}"
            }
          },
          "metadata": {},
          "execution_count": 55
        }
      ]
    },
    {
      "cell_type": "code",
      "source": [
        "df_final.count()"
      ],
      "metadata": {
        "colab": {
          "base_uri": "https://localhost:8080/"
        },
        "id": "N1_XLI7qIOrU",
        "outputId": "c32d022e-ed93-4e7d-df6c-ba075683f298"
      },
      "execution_count": null,
      "outputs": [
        {
          "output_type": "execute_result",
          "data": {
            "text/plain": [
              "0    51\n",
              "dtype: int64"
            ]
          },
          "metadata": {},
          "execution_count": 49
        }
      ]
    },
    {
      "cell_type": "code",
      "source": [
        "file_name = 'captioned_llm-coco.xlsx'"
      ],
      "metadata": {
        "id": "UoUjI1NqIAo3"
      },
      "execution_count": null,
      "outputs": []
    },
    {
      "cell_type": "code",
      "source": [
        "df_final.to_excel(file_name)"
      ],
      "metadata": {
        "id": "JqGQStLFICPN"
      },
      "execution_count": null,
      "outputs": []
    },
    {
      "cell_type": "code",
      "source": [
        "# @title\n",
        "image_url = 'https://houstoncriminalfirm.com/wp-content/uploads/2019/06/Canva-_-Theft-900x600.jpg'\n",
        "user_question = 'Please caption this image according to the context'\n",
        "context='help'"
      ],
      "metadata": {
        "id": "wEyJeMVzQpnf",
        "cellView": "form"
      },
      "execution_count": null,
      "outputs": []
    },
    {
      "cell_type": "code",
      "source": [
        "# @title\n",
        "import cv2\n",
        "from google.colab.patches import cv2_imshow"
      ],
      "metadata": {
        "id": "5JXUGGkX0Vw4",
        "cellView": "form"
      },
      "execution_count": null,
      "outputs": []
    },
    {
      "cell_type": "code",
      "source": [
        "# @title\n",
        "context='crime, theft, robbery'"
      ],
      "metadata": {
        "id": "B83kqiMA3hW7",
        "cellView": "form"
      },
      "execution_count": null,
      "outputs": []
    },
    {
      "cell_type": "code",
      "source": [
        "# @title\n",
        "files= ['/content/3.jpg','/content/4.jpg' ]\n",
        "user_question = 'Please describe what is happening in this image according to given context. The context is crime, theft, robbery. Please do not speculate'"
      ],
      "metadata": {
        "id": "yeeAYiR0yxDz"
      },
      "execution_count": null,
      "outputs": []
    },
    {
      "cell_type": "code",
      "source": [
        "for file in files:\n",
        "    response = agent.invoke(f'{user_question}- {file}')\n",
        "    img=cv2.imread(file)\n",
        "    res_img = cv2.resize(img,(299,299))\n",
        "    cv2_imshow(res_img)\n",
        "    caption=response['output']\n",
        "    wrapped_capt= textwrap.fill(caption, width=max_width)\n",
        "    print(wrapped_capt)\n",
        "    print()\n"
      ],
      "metadata": {
        "id": "Inft7v8AQpkf"
      },
      "execution_count": null,
      "outputs": []
    }
  ]
}